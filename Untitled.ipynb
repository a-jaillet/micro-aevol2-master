{
 "cells": [
  {
   "cell_type": "markdown",
   "id": "9d947124",
   "metadata": {},
   "source": [
    "# Projet OT5: Parallélisation de micro-aevol\n",
    "\n",
    "## Adrien Jaillet - Novembre 2022\n",
    "\n",
    "### Présentation des fichiers\n",
    "\n",
    "Le dossier est composé de plusieurs sous-dossier. Chaque sous-dossier correspon à une nouvelle version de micro-aevol. La version v0 correspond à la version initial. \n",
    "\n",
    "J'ai choisi d'axer ma parallélisation sur le GPU, car c'est ce qui m'interessait le plus."
   ]
  },
  {
   "cell_type": "code",
   "execution_count": null,
   "id": "879387e7",
   "metadata": {},
   "outputs": [
    {
     "name": "stdout",
     "output_type": "stream",
     "text": [
      "/home/ajaillet/Documents/5IF/OT5/micro-aevol2-master/result_comparison/experiment_cpu_v0\n"
     ]
    }
   ],
   "source": [
    "import os\n",
    "import shutil\n",
    "import subprocess\n",
    "import sys\n",
    "\n",
    "NUM_STEPS = 1000\n",
    "\n",
    "\n",
    "def prRed(skk): print(\"\\033[91m {}\\033[00m\" .format(skk))\n",
    "\n",
    "def prGreen(skk): print(\"\\033[92m {}\\033[00m\" .format(skk))\n",
    "\n",
    "\n",
    "def main():\n",
    "    NUM_STEPS = 1000\n",
    "\n",
    "    cwd = os.getcwd()\n",
    "    \n",
    "    print(cwd)\n",
    "    if os.path.exists(\"experiment_cpu_v0\"):\n",
    "        shutil.rmtree(\"experiment_cpu_v0\")\n",
    "\n",
    "    if os.path.exists(\"experiment_to_challenge\"):\n",
    "        shutil.rmtree(\"experiment_to_challenge\")\n",
    "\n",
    " \n",
    "\n",
    "main()"
   ]
  },
  {
   "cell_type": "code",
   "execution_count": null,
   "id": "4d9564a2",
   "metadata": {},
   "outputs": [],
   "source": []
  }
 ],
 "metadata": {
  "kernelspec": {
   "display_name": "Python 3 (ipykernel)",
   "language": "python",
   "name": "python3"
  },
  "language_info": {
   "codemirror_mode": {
    "name": "ipython",
    "version": 3
   },
   "file_extension": ".py",
   "mimetype": "text/x-python",
   "name": "python",
   "nbconvert_exporter": "python",
   "pygments_lexer": "ipython3",
   "version": "3.10.6"
  }
 },
 "nbformat": 4,
 "nbformat_minor": 5
}
